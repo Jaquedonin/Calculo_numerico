{
 "cells": [
  {
   "cell_type": "code",
   "execution_count": null,
   "metadata": {},
   "outputs": [],
   "source": [
    " \n",
    "\n",
    "# Função\n",
    "f = lambda x: 2*math.sin(x) - (3*x**2)\n",
    "\n",
    "# Número de Interações\n",
    "inter = lambda a,b,erro: 1 + int((np.log(b-a)-np.log(erro))//np.log(2))\n",
    "\n",
    "# Pontos iniciais e erro\n",
    "a,b,erro = 0.5,1.0,1.0e-2\n",
    "\n",
    "k = inter(a,b,erro)\n",
    "\n",
    "x = (a*f(b)-b*f(a))/(f(b)-f(a))\n",
    "\n",
    "for i in range(k):\n",
    "    print(\"a\", a, \"|b\", b)\n",
    "    if np.abs(f(x)) >= erro:\n",
    "        \n",
    "        if f(a)*f(x)<0:\n",
    "            b = x\n",
    "        else:\n",
    "            a = x\n",
    "    else:\n",
    "        break\n",
    "\n",
    "print(\"Solução numérica: %f\" %x)\n",
    "print(\"Interações: %d\" %i)"
   ]
  }
 ],
 "metadata": {
  "kernelspec": {
   "display_name": "Python 3",
   "language": "python",
   "name": "python3"
  }
 },
 "nbformat": 4,
 "nbformat_minor": 2
}
